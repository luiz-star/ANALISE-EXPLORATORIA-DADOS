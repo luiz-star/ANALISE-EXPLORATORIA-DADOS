{
  "nbformat": 4,
  "nbformat_minor": 0,
  "metadata": {
    "colab": {
      "name": "Cópia de preparacao_textos.ipynb",
      "provenance": [],
      "include_colab_link": true
    },
    "kernelspec": {
      "name": "python3",
      "display_name": "Python 3"
    }
  },
  "cells": [
    {
      "cell_type": "markdown",
      "metadata": {
        "id": "view-in-github",
        "colab_type": "text"
      },
      "source": [
        "<a href=\"https://colab.research.google.com/github/luiz-star/ANALISE-EXPLORATORIA-DADOS/blob/main/C%C3%B3pia_de_preparacao_textos.ipynb\" target=\"_parent\"><img src=\"https://colab.research.google.com/assets/colab-badge.svg\" alt=\"Open In Colab\"/></a>"
      ]
    },
    {
      "cell_type": "code",
      "metadata": {
        "id": "Zxswp_7dxPI8",
        "colab": {
          "base_uri": "https://localhost:8080/",
          "height": 85
        },
        "outputId": "ce9c231b-b3a8-4777-b3bc-bd9eb79434a9"
      },
      "source": [
        "#gerando as stopwords\n",
        "import nltk  #biblioteca para a análise de textos\n",
        "import numpy as np\n",
        "nltk.download('stopwords')\n",
        "nltk.download('punkt')\n",
        "from pprint import pprint  #biblioteca para realizar o \"print\" de forma mais amigável \"pretty-print\""
      ],
      "execution_count": null,
      "outputs": [
        {
          "output_type": "stream",
          "text": [
            "[nltk_data] Downloading package stopwords to /root/nltk_data...\n",
            "[nltk_data]   Unzipping corpora/stopwords.zip.\n",
            "[nltk_data] Downloading package punkt to /root/nltk_data...\n",
            "[nltk_data]   Unzipping tokenizers/punkt.zip.\n"
          ],
          "name": "stdout"
        }
      ]
    },
    {
      "cell_type": "code",
      "metadata": {
        "id": "ooiskYxFNCZL",
        "colab": {
          "base_uri": "https://localhost:8080/",
          "height": 425
        },
        "outputId": "51d8f37d-4698-424a-d647-b422e887bca7"
      },
      "source": [
        "stopWordPortugues = nltk.corpus.stopwords.words('portuguese')\n",
        "print(np.transpose(stopWordPortugues))"
      ],
      "execution_count": null,
      "outputs": [
        {
          "output_type": "stream",
          "text": [
            "['de' 'a' 'o' 'que' 'e' 'é' 'do' 'da' 'em' 'um' 'para' 'com' 'não' 'uma'\n",
            " 'os' 'no' 'se' 'na' 'por' 'mais' 'as' 'dos' 'como' 'mas' 'ao' 'ele' 'das'\n",
            " 'à' 'seu' 'sua' 'ou' 'quando' 'muito' 'nos' 'já' 'eu' 'também' 'só'\n",
            " 'pelo' 'pela' 'até' 'isso' 'ela' 'entre' 'depois' 'sem' 'mesmo' 'aos'\n",
            " 'seus' 'quem' 'nas' 'me' 'esse' 'eles' 'você' 'essa' 'num' 'nem' 'suas'\n",
            " 'meu' 'às' 'minha' 'numa' 'pelos' 'elas' 'qual' 'nós' 'lhe' 'deles'\n",
            " 'essas' 'esses' 'pelas' 'este' 'dele' 'tu' 'te' 'vocês' 'vos' 'lhes'\n",
            " 'meus' 'minhas' 'teu' 'tua' 'teus' 'tuas' 'nosso' 'nossa' 'nossos'\n",
            " 'nossas' 'dela' 'delas' 'esta' 'estes' 'estas' 'aquele' 'aquela'\n",
            " 'aqueles' 'aquelas' 'isto' 'aquilo' 'estou' 'está' 'estamos' 'estão'\n",
            " 'estive' 'esteve' 'estivemos' 'estiveram' 'estava' 'estávamos' 'estavam'\n",
            " 'estivera' 'estivéramos' 'esteja' 'estejamos' 'estejam' 'estivesse'\n",
            " 'estivéssemos' 'estivessem' 'estiver' 'estivermos' 'estiverem' 'hei' 'há'\n",
            " 'havemos' 'hão' 'houve' 'houvemos' 'houveram' 'houvera' 'houvéramos'\n",
            " 'haja' 'hajamos' 'hajam' 'houvesse' 'houvéssemos' 'houvessem' 'houver'\n",
            " 'houvermos' 'houverem' 'houverei' 'houverá' 'houveremos' 'houverão'\n",
            " 'houveria' 'houveríamos' 'houveriam' 'sou' 'somos' 'são' 'era' 'éramos'\n",
            " 'eram' 'fui' 'foi' 'fomos' 'foram' 'fora' 'fôramos' 'seja' 'sejamos'\n",
            " 'sejam' 'fosse' 'fôssemos' 'fossem' 'for' 'formos' 'forem' 'serei' 'será'\n",
            " 'seremos' 'serão' 'seria' 'seríamos' 'seriam' 'tenho' 'tem' 'temos' 'tém'\n",
            " 'tinha' 'tínhamos' 'tinham' 'tive' 'teve' 'tivemos' 'tiveram' 'tivera'\n",
            " 'tivéramos' 'tenha' 'tenhamos' 'tenham' 'tivesse' 'tivéssemos' 'tivessem'\n",
            " 'tiver' 'tivermos' 'tiverem' 'terei' 'terá' 'teremos' 'terão' 'teria'\n",
            " 'teríamos' 'teriam']\n"
          ],
          "name": "stdout"
        }
      ]
    },
    {
      "cell_type": "code",
      "metadata": {
        "id": "X0XjQ38tf3FO",
        "colab": {
          "base_uri": "https://localhost:8080/",
          "height": 68
        },
        "outputId": "61410e94-3b2b-41f2-cda8-e190acc8522c"
      },
      "source": [
        "#gerando os tokens de sentenças\n",
        "sample_text=\"\"\" O menino gosta de jogar futebol aos finais de semana. \n",
        "Ele gosta de jogar com seus amigos Marcos e João, mas não gosta de brincar\n",
        "com a irmã Marcela\"\"\"\n",
        "tokenizacao_sentencas=nltk.sent_tokenize\n",
        "sample_sentence = tokenizacao_sentencas(text=sample_text)\n",
        "pprint(sample_sentence)"
      ],
      "execution_count": null,
      "outputs": [
        {
          "output_type": "stream",
          "text": [
            "[' O menino gosta de jogar futebol aos finais de semana.',\n",
            " 'Ele gosta de jogar com seus amigos Marcos e João, mas não gosta de brincar\\n'\n",
            " 'com a irmã Marcela']\n"
          ],
          "name": "stdout"
        }
      ]
    },
    {
      "cell_type": "code",
      "metadata": {
        "id": "hq947qkkOpuN",
        "colab": {
          "base_uri": "https://localhost:8080/",
          "height": 34
        },
        "outputId": "d52de150-786b-4cdd-a608-3f44a71f1b64"
      },
      "source": [
        "len(sample_sentence)"
      ],
      "execution_count": null,
      "outputs": [
        {
          "output_type": "execute_result",
          "data": {
            "text/plain": [
              "2"
            ]
          },
          "metadata": {
            "tags": []
          },
          "execution_count": 5
        }
      ]
    },
    {
      "cell_type": "code",
      "metadata": {
        "id": "VZlivgR3g6EF",
        "colab": {
          "base_uri": "https://localhost:8080/",
          "height": 204
        },
        "outputId": "ec6e7c3d-29e4-480e-e144-6dcfc6165e4d"
      },
      "source": [
        "#tokenização de palavras\n",
        "sample_sentence='O menino gosta de jogar futebol aos finais de semana.'\n",
        "tokenizacao_palavras=nltk.word_tokenize\n",
        "sample_words = tokenizacao_palavras(text=sample_sentence)\n",
        "pprint(sample_words)"
      ],
      "execution_count": null,
      "outputs": [
        {
          "output_type": "stream",
          "text": [
            "['O',\n",
            " 'menino',\n",
            " 'gosta',\n",
            " 'de',\n",
            " 'jogar',\n",
            " 'futebol',\n",
            " 'aos',\n",
            " 'finais',\n",
            " 'de',\n",
            " 'semana',\n",
            " '.']\n"
          ],
          "name": "stdout"
        }
      ]
    },
    {
      "cell_type": "code",
      "metadata": {
        "id": "4GhT0e4qNX0u",
        "colab": {
          "base_uri": "https://localhost:8080/",
          "height": 68
        },
        "outputId": "ca0e5232-bcf1-4459-8ec5-4b6d4d44a359"
      },
      "source": [
        "#gerando as amostras de stem\n",
        "from nltk.stem import PorterStemmer  #stemização baseado no algoritmo de Porter\n",
        "from nltk.stem import RSLPStemmer #stemização para o português\n",
        "nltk.download('rslp')"
      ],
      "execution_count": null,
      "outputs": [
        {
          "output_type": "stream",
          "text": [
            "[nltk_data] Downloading package rslp to /root/nltk_data...\n",
            "[nltk_data]   Unzipping stemmers/rslp.zip.\n"
          ],
          "name": "stdout"
        },
        {
          "output_type": "execute_result",
          "data": {
            "text/plain": [
              "True"
            ]
          },
          "metadata": {
            "tags": []
          },
          "execution_count": 7
        }
      ]
    },
    {
      "cell_type": "code",
      "metadata": {
        "id": "XYW4BWysQiyx",
        "colab": {
          "base_uri": "https://localhost:8080/",
          "height": 85
        },
        "outputId": "1db1d464-f273-41cb-9495-5f89fa6eb81b"
      },
      "source": [
        "#gerado stem através do nltk\n",
        "ps=PorterStemmer()\n",
        "stemmer =RSLPStemmer()\n",
        "\n",
        "print(ps.stem('jumping'))\n",
        "print(stemmer.stem('amoroso')) \n",
        "print(stemmer.stem('amorosa'))\n",
        "print(stemmer.stem('amados'))\n"
      ],
      "execution_count": null,
      "outputs": [
        {
          "output_type": "stream",
          "text": [
            "jump\n",
            "amor\n",
            "amor\n",
            "am\n"
          ],
          "name": "stdout"
        }
      ]
    },
    {
      "cell_type": "code",
      "metadata": {
        "id": "BJDrwlnPQ0Qs",
        "colab": {
          "base_uri": "https://localhost:8080/",
          "height": 34
        },
        "outputId": "51c89820-49e6-447c-9f44-9e72904bb53b"
      },
      "source": [
        "from nltk.stem import SnowballStemmer   # mais indicado para a lingua portuguesa\n",
        "\n",
        "print('Linguagens suportadas %s',SnowballStemmer.languages)\n"
      ],
      "execution_count": null,
      "outputs": [
        {
          "output_type": "stream",
          "text": [
            "Linguagens suportadas %s ('arabic', 'danish', 'dutch', 'english', 'finnish', 'french', 'german', 'hungarian', 'italian', 'norwegian', 'porter', 'portuguese', 'romanian', 'russian', 'spanish', 'swedish')\n"
          ],
          "name": "stdout"
        }
      ]
    },
    {
      "cell_type": "code",
      "metadata": {
        "id": "BZNfCX1KQ5P0",
        "colab": {
          "base_uri": "https://localhost:8080/",
          "height": 68
        },
        "outputId": "8c5eb830-1e8a-44f7-f6e9-b14ab2761b20"
      },
      "source": [
        "ss = SnowballStemmer(\"portuguese\")\n",
        "print(ss.stem('casado'))\n",
        "print(ss.stem('casarão'))\n",
        "print(ss.stem('casa'))"
      ],
      "execution_count": null,
      "outputs": [
        {
          "output_type": "stream",
          "text": [
            "cas\n",
            "cas\n",
            "cas\n"
          ],
          "name": "stdout"
        }
      ]
    },
    {
      "cell_type": "markdown",
      "metadata": {
        "id": "OZV1Kn5Ao2fF"
      },
      "source": [
        "** ---------------------**Exemplo Bag of Words ---------------------**** **\n"
      ]
    },
    {
      "cell_type": "code",
      "metadata": {
        "id": "_idIhbTZqNsV"
      },
      "source": [
        "sentenca=\"O IGTI oferece especializacao em Deep Learning. Deep Learning e utilizado em diversas aplicacoes. As aplicacoes de deep learning sao estudadas nesta especializacao. O IGTI tambem oferece bootcamp\"\n"
      ],
      "execution_count": null,
      "outputs": []
    },
    {
      "cell_type": "code",
      "metadata": {
        "id": "jgmZh9ItwH24"
      },
      "source": [
        "#coloca toda a sentença em lowercase\n",
        "sentenca=sentenca.lower()"
      ],
      "execution_count": null,
      "outputs": []
    },
    {
      "cell_type": "code",
      "metadata": {
        "id": "f3RxA_XMun_b",
        "colab": {
          "base_uri": "https://localhost:8080/",
          "height": 34
        },
        "outputId": "c493d9db-2636-43e7-c696-ef07df831681"
      },
      "source": [
        "print(sentenca)"
      ],
      "execution_count": null,
      "outputs": [
        {
          "output_type": "stream",
          "text": [
            "o igti oferece especializacao em deep learning. deep learning e utilizado em diversas aplicacoes. as aplicacoes de deep learning sao estudadas nesta especializacao. o igti tambem oferece bootcamp\n"
          ],
          "name": "stdout"
        }
      ]
    },
    {
      "cell_type": "code",
      "metadata": {
        "id": "8Ck6OBZzu0p9",
        "colab": {
          "base_uri": "https://localhost:8080/",
          "height": 85
        },
        "outputId": "3e226daa-191b-449e-81ad-54a90c45d45f"
      },
      "source": [
        "#tokenização de sentencas\n",
        "tokenizacao_sentencas=nltk.sent_tokenize\n",
        "sample_sentence = tokenizacao_sentencas(text=sentenca)\n",
        "pprint(sample_sentence)\n"
      ],
      "execution_count": null,
      "outputs": [
        {
          "output_type": "stream",
          "text": [
            "['o igti oferece especializacao em deep learning.',\n",
            " 'deep learning e utilizado em diversas aplicacoes.',\n",
            " 'as aplicacoes de deep learning sao estudadas nesta especializacao.',\n",
            " 'o igti tambem oferece bootcamp']\n"
          ],
          "name": "stdout"
        }
      ]
    },
    {
      "cell_type": "code",
      "metadata": {
        "id": "aJx79fF7vmD_",
        "colab": {
          "base_uri": "https://localhost:8080/",
          "height": 34
        },
        "outputId": "a96e9ae8-c0ac-451c-9893-19d169c794d3"
      },
      "source": [
        "sample_sentence[0] #seleciona a primeira sentença"
      ],
      "execution_count": null,
      "outputs": [
        {
          "output_type": "execute_result",
          "data": {
            "text/plain": [
              "'o igti oferece especializacao em deep learning.'"
            ]
          },
          "metadata": {
            "tags": []
          },
          "execution_count": 16
        }
      ]
    },
    {
      "cell_type": "code",
      "metadata": {
        "id": "fPXCXPsPvkuv"
      },
      "source": [
        "#tokenização de palavras\n",
        "tokenizacao_palavras=nltk.word_tokenize\n",
        "list_words=[]\n",
        "for i in range(len(sample_sentence)):\n",
        "  sample_words = tokenizacao_palavras(text=sample_sentence[i])\n",
        "  list_words.extend(sample_words)\n"
      ],
      "execution_count": null,
      "outputs": []
    },
    {
      "cell_type": "code",
      "metadata": {
        "id": "UMXwFa1Iw5a2",
        "colab": {
          "base_uri": "https://localhost:8080/",
          "height": 54
        },
        "outputId": "5d240564-d35d-4d6c-8f64-483ab70cd6e3"
      },
      "source": [
        "print(list_words)  #corpus a ser analisado"
      ],
      "execution_count": null,
      "outputs": [
        {
          "output_type": "stream",
          "text": [
            "['o', 'igti', 'oferece', 'especializacao', 'em', 'deep', 'learning', '.', 'deep', 'learning', 'e', 'utilizado', 'em', 'diversas', 'aplicacoes', '.', 'as', 'aplicacoes', 'de', 'deep', 'learning', 'sao', 'estudadas', 'nesta', 'especializacao', '.', 'o', 'igti', 'tambem', 'oferece', 'bootcamp']\n"
          ],
          "name": "stdout"
        }
      ]
    },
    {
      "cell_type": "code",
      "metadata": {
        "id": "0yZEFwLNxdML"
      },
      "source": [
        "#tokeniza palavras\n",
        "def tokenizaPalavras(sentenca):\n",
        "  sample_words = tokenizacao_palavras(text=sentenca)\n",
        "  return sample_words\n",
        "\n",
        "\n",
        "#removendo stopwords e criando o BoW\n",
        "def removeStopWords(list_of_words):\n",
        "\n",
        "  my_stop_words=['o','em','as','de','sao','nesta','.','e','a','na','do'] # cria a lista de stopwords\n",
        "  list_cleaned=set(list_of_words)-set(my_stop_words)\n",
        "  return list_cleaned\n",
        "\n",
        "my_BoW=removeStopWords(list_words)"
      ],
      "execution_count": null,
      "outputs": []
    },
    {
      "cell_type": "code",
      "metadata": {
        "id": "MVp7bYXm2aBS",
        "colab": {
          "base_uri": "https://localhost:8080/",
          "height": 34
        },
        "outputId": "7134d815-672c-4347-f77d-dcc3e9662e72"
      },
      "source": [
        "print(my_BoW)"
      ],
      "execution_count": null,
      "outputs": [
        {
          "output_type": "stream",
          "text": [
            "{'learning', 'diversas', 'igti', 'estudadas', 'oferece', 'especializacao', 'aplicacoes', 'deep', 'utilizado', 'tambem', 'bootcamp'}\n"
          ],
          "name": "stdout"
        }
      ]
    },
    {
      "cell_type": "code",
      "metadata": {
        "id": "oz6-fmYP6xBX"
      },
      "source": [
        "#Cria o vetor que representa a sentenca na BoW \n",
        "def bagofwords(sentence, words):\n",
        "    sentence_words = tokenizaPalavras(sentence)\n",
        "    # conta a frequência de palavras que estão no vetor do BoW\n",
        "    bag = np.zeros(len(words))\n",
        "    for sw in sentence_words:\n",
        "        for i,word in enumerate(words):\n",
        "            if word == sw: \n",
        "                bag[i] += 1\n",
        "                \n",
        "    return np.array(bag)\n",
        "\n"
      ],
      "execution_count": null,
      "outputs": []
    },
    {
      "cell_type": "code",
      "metadata": {
        "id": "vjDpTNr8SAMI",
        "colab": {
          "base_uri": "https://localhost:8080/",
          "height": 34
        },
        "outputId": "d3fda273-0427-4e09-a028-065cf6dce1e4"
      },
      "source": [
        "sentenca_teste='o igti oferece especializacao em deep learning e o igti oferece bootcamp'\n",
        "print(bagofwords(sentenca_teste,my_BoW))"
      ],
      "execution_count": null,
      "outputs": [
        {
          "output_type": "stream",
          "text": [
            "[1. 0. 2. 0. 2. 1. 0. 1. 0. 0. 1.]\n"
          ],
          "name": "stdout"
        }
      ]
    }
  ]
}