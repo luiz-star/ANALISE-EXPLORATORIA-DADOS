{
  "nbformat": 4,
  "nbformat_minor": 0,
  "metadata": {
    "colab": {
      "provenance": [],
      "include_colab_link": true
    },
    "kernelspec": {
      "display_name": "Python 3 (ipykernel)",
      "language": "python",
      "name": "python3"
    },
    "language_info": {
      "codemirror_mode": {
        "name": "ipython",
        "version": 3
      },
      "file_extension": ".py",
      "mimetype": "text/x-python",
      "name": "python",
      "nbconvert_exporter": "python",
      "pygments_lexer": "ipython3",
      "version": "3.9.8"
    }
  },
  "cells": [
    {
      "cell_type": "markdown",
      "metadata": {
        "id": "view-in-github",
        "colab_type": "text"
      },
      "source": [
        "<a href=\"https://colab.research.google.com/github/luiz-star/ANALISE-EXPLORATORIA-DADOS/blob/main/PLN_Limpeza_Dados_textuais_.ipynb\" target=\"_parent\"><img src=\"https://colab.research.google.com/assets/colab-badge.svg\" alt=\"Open In Colab\"/></a>"
      ]
    },
    {
      "cell_type": "markdown",
      "metadata": {
        "id": "jwX95zFFaA0D"
      },
      "source": [
        "# <font color='pink'>Limpeza e pré-processamento de dados textuais com a biblioteca NeatText\n",
        "\n",
        "\n",
        "</font>\n",
        "\n",
        "MINI PALESTRA"
      ]
    },
    {
      "cell_type": "markdown",
      "metadata": {
        "id": "gtv8JTM61J5x"
      },
      "source": [
        "![Limpeza e pré-processamento de dados textuais com a biblioteca NeatText](https://user-images.githubusercontent.com/72530507/137633609-467a4245-4430-4171-a359-e068340b13bd.png)\n"
      ]
    },
    {
      "cell_type": "markdown",
      "metadata": {
        "id": "WQTt4GUZac2s"
      },
      "source": [
        "#Índice\n",
        "O que é NeatText\n",
        "\n",
        "Componentes do NeatText\n",
        "\n",
        "Instalação\n",
        "\n",
        "Usando TextFrame\n",
        "\n",
        "Usando TextExtractor\n",
        "\n",
        "Usando funções\n",
        "\n",
        "Usando o Explainer\n",
        "\n",
        "Conclusão"
      ]
    },
    {
      "cell_type": "markdown",
      "metadata": {
        "id": "tSlaM3QRawCy"
      },
      "source": [
        "#O que é NeatText\n",
        "\n",
        "NeatText é um pacote simples de processamento de linguagem natural para limpar dados de texto e pré-processar dados de texto. Ele pode ser usado para limpar frases, extrair e-mails, números de telefone, links da web e emojis de frases. Também pode ser usado para configurar pipelines de pré-processamento de texto."
      ]
    },
    {
      "cell_type": "code",
      "metadata": {
        "colab": {
          "base_uri": "https://localhost:8080/"
        },
        "id": "kG6Lt9WRZ17H",
        "outputId": "de2a2f09-a954-415e-f26e-b2cb605c4037"
      },
      "source": [
        "# Instalação da Biblioteca NeatText\n",
        "!pip install neattext -- update"
      ],
      "execution_count": null,
      "outputs": [
        {
          "output_type": "stream",
          "name": "stdout",
          "text": [
            "Requirement already satisfied: neattext in /usr/local/lib/python3.10/dist-packages (0.1.3)\n",
            "Requirement already satisfied: update in /usr/local/lib/python3.10/dist-packages (0.0.1)\n",
            "Requirement already satisfied: style==1.1.0 in /usr/local/lib/python3.10/dist-packages (from update) (1.1.0)\n"
          ]
        }
      ]
    },
    {
      "cell_type": "code",
      "metadata": {
        "id": "Z7stH9H1bt95"
      },
      "source": [
        "#Importando a Biblioteca\n",
        "import neattext as nt"
      ],
      "execution_count": null,
      "outputs": []
    },
    {
      "cell_type": "markdown",
      "metadata": {
        "id": "zVOnvcf0b51F"
      },
      "source": [
        "Veremos a funcionalidade de diferentes objetos desta biblioteca em uma frase.\n",
        "\n",
        "Vamos criar uma frase.\n",
        "\n",
        "Este será o exemplo que vamos utilizar para os nossos testes:\n",
        "\n",
        "' ☺️. Desenvolver educação tecnológica por meio da formação de profissionais éticos e competentes, capazes de se adaptar às mudanças, criar, aplicar e difundir conhecimento tecnológico, contribuindo para o desenvolvimento social e a elevação da qualidade e produtividade de processos, produtos e serviços!!!!! 😎.Seu número de contato é 0123456789.Seu e-mail é ficticio@gmail.com.👀Seu site é https://engenhariadedadosacademy.com/'\n",
        "\n"
      ]
    },
    {
      "cell_type": "code",
      "metadata": {
        "id": "tZaQ7P7_cG49"
      },
      "source": [
        "my_text = ' ☺️. Desenvolver educação tecnológica por meio da formação de profissionais éticos e competentes, capazes de se adaptar às mudanças, criar, aplicar e difundir conhecimento tecnológico, contribuindo para o desenvolvimento social e a elevação da qualidade e produtividade de processos, produtos e serviços!!!!! 😎.Seu número de contato é 0123456789.Seu e-mail é ficticio@gmail.com.👀Seu site é https://engenhariadedadosacademy.com/'"
      ],
      "execution_count": null,
      "outputs": []
    },
    {
      "cell_type": "markdown",
      "metadata": {
        "id": "lMZ_h7frfIZS"
      },
      "source": [
        "A frase acima contém muito ruído, como emojis, e-mails, links da web e alguns caracteres especiais. Então, vamos limpar essa frase."
      ]
    },
    {
      "cell_type": "markdown",
      "metadata": {
        "id": "k7VI5wHhfVba"
      },
      "source": [
        "Este objeto mantém o texto como um objeto TextFrame, o que nos permitirá fazer mais com o texto. Para usar o objeto TextFrame, temos que criar uma instância de TextFrame na frase dada. Vamos criar uma instância chamada sentx."
      ]
    },
    {
      "cell_type": "code",
      "metadata": {
        "id": "QY4smfDDfb-P"
      },
      "source": [
        "# Criando uma instância\n",
        "sentx = nt.TextFrame(text=my_text)"
      ],
      "execution_count": null,
      "outputs": []
    },
    {
      "cell_type": "code",
      "metadata": {
        "colab": {
          "base_uri": "https://localhost:8080/",
          "height": 70
        },
        "id": "91vLg6Knic85",
        "outputId": "6aa02a02-e730-4d39-e3b1-f43d096ca862"
      },
      "source": [
        "# Imprimir o texto da Instância sentx\n",
        "sentx.text"
      ],
      "execution_count": null,
      "outputs": [
        {
          "output_type": "execute_result",
          "data": {
            "text/plain": [
              "' ☺️. Desenvolver educação tecnológica por meio da formação de profissionais éticos e competentes, capazes de se adaptar às mudanças, criar, aplicar e difundir conhecimento tecnológico, contribuindo para o desenvolvimento social e a elevação da qualidade e produtividade de processos, produtos e serviços!!!!! 😎.Seu número de contato é 0123456789.Seu e-mail é ficticio@gmail.com.👀Seu site é https://engenhariadedadosacademy.com/'"
            ],
            "application/vnd.google.colaboratory.intrinsic+json": {
              "type": "string"
            }
          },
          "metadata": {},
          "execution_count": 46
        }
      ]
    },
    {
      "cell_type": "code",
      "metadata": {
        "colab": {
          "base_uri": "https://localhost:8080/"
        },
        "id": "lfcqi4pnixlO",
        "outputId": "96d8abe1-1bb4-4f1a-cdf3-46a9d4e119df"
      },
      "source": [
        "#Agora que temos uma instância sentx, vamos usar o comando describe ().\n",
        "sentx.describe()"
      ],
      "execution_count": null,
      "outputs": [
        {
          "output_type": "stream",
          "name": "stdout",
          "text": [
            "Key      Value          \n",
            "Length  : 427            \n",
            "vowels  : 146            \n",
            "consonants: 175            \n",
            "stopwords: 2              \n",
            "punctuations: 22             \n",
            "special_char: 22             \n",
            "tokens(whitespace): 54             \n",
            "tokens(words): 62             \n"
          ]
        }
      ]
    },
    {
      "cell_type": "code",
      "metadata": {
        "colab": {
          "base_uri": "https://localhost:8080/"
        },
        "id": "bOLefg3ukWSE",
        "outputId": "02ea9ed7-3238-41d3-acee-f18f33545b42"
      },
      "source": [
        "#Para contar o número de vogais na frase\n",
        "sentx.count_vowels ()"
      ],
      "execution_count": null,
      "outputs": [
        {
          "output_type": "execute_result",
          "data": {
            "text/plain": [
              "{'a': 28, 'e': 39, 'i': 26, 'o': 35, 'u': 11}"
            ]
          },
          "metadata": {},
          "execution_count": 28
        }
      ]
    },
    {
      "cell_type": "code",
      "metadata": {
        "colab": {
          "base_uri": "https://localhost:8080/"
        },
        "id": "nHaPXkfykfvF",
        "outputId": "dbbe4d3a-466b-4933-f657-82a61afe8d3d"
      },
      "source": [
        "#Para contar o número de palavras irrelevantes na frase\n",
        "sentx.count_stopwords ()"
      ],
      "execution_count": null,
      "outputs": [
        {
          "output_type": "execute_result",
          "data": {
            "text/plain": [
              "{'o': 1, 'a': 1}"
            ]
          },
          "metadata": {},
          "execution_count": 29
        }
      ]
    },
    {
      "cell_type": "markdown",
      "metadata": {
        "id": "4HHjLgsUkRlu"
      },
      "source": [
        "Agora que vimos algumas métricas de texto básicas que esta biblioteca tem a oferecer, vamos ver alguns métodos de limpeza de texto."
      ]
    },
    {
      "cell_type": "code",
      "metadata": {
        "colab": {
          "base_uri": "https://localhost:8080/"
        },
        "id": "xLWdeHbwky1d",
        "outputId": "7e94599c-db7b-4043-d688-ca1abb1de997"
      },
      "source": [
        "#Para remover pontuações na frase\n",
        "print(sentx.remove_puncts())"
      ],
      "execution_count": null,
      "outputs": [
        {
          "output_type": "stream",
          "name": "stdout",
          "text": [
            " ☺️ Desenvolver educação tecnológica por meio da formação de profissionais éticos e competentes capazes de se adaptar às mudanças criar aplicar e difundir conhecimento tecnológico contribuindo para o desenvolvimento social e a elevação da qualidade e produtividade de processos produtos e serviços 😎Seu número de contato é 0123456789Seu email é ficticio@gmailcom👀Seu site é https://wwwfatecourcom/\n"
          ]
        }
      ]
    },
    {
      "cell_type": "code",
      "metadata": {
        "colab": {
          "base_uri": "https://localhost:8080/"
        },
        "id": "qfK4bOsUlgj0",
        "outputId": "c2c0893c-0fd7-4fc5-9a50-f68004c1de5b"
      },
      "source": [
        "#Removendo emojis\n",
        "print(sentx.remove_emojis ())"
      ],
      "execution_count": null,
      "outputs": [
        {
          "output_type": "stream",
          "name": "stdout",
          "text": [
            "  Desenvolver educação tecnológica por meio da formação de profissionais éticos e competentes capazes de se adaptar às mudanças criar aplicar e difundir conhecimento tecnológico contribuindo para o desenvolvimento social e a elevação da qualidade e produtividade de processos produtos e serviços Seu número de contato é 0123456789Seu email é ficticio@gmailcomSeu site é https://wwwfatecourcom/\n"
          ]
        }
      ]
    },
    {
      "cell_type": "markdown",
      "metadata": {
        "id": "8so8Q8kfl1HG"
      },
      "source": [
        "Às vezes, as frases contêm dados valiosos como e-mails, números de telefone, emojis. Por exemplo, em um determinado tweet, o emoji pode nos dar informações valiosas, como o sentimento do tweet. Portanto, vamos usar o TextExtractor para extrair algumas informações valiosas da frase."
      ]
    },
    {
      "cell_type": "code",
      "metadata": {
        "id": "Fbu2gjZjl9LP"
      },
      "source": [
        "#Primeiro, vamos extrair o e-mail da frase. Para fazer isso,\n",
        "# temos que importar TextExtractor e criar uma instância dele\n",
        "from neattext import TextExtractor\n",
        "sentx1 = TextExtractor (text = my_text)"
      ],
      "execution_count": null,
      "outputs": []
    },
    {
      "cell_type": "code",
      "metadata": {
        "colab": {
          "base_uri": "https://localhost:8080/"
        },
        "id": "wRXR4NzcmXYt",
        "outputId": "cba1e8fc-378b-483d-a332-d358f5084a8a"
      },
      "source": [
        "#Agora que criamos uma instância dele, vamos usá-lo para extrair e-mail\n",
        "sentx1.extract_emails ()"
      ],
      "execution_count": null,
      "outputs": [
        {
          "output_type": "execute_result",
          "data": {
            "text/plain": [
              "['ficticio@gmail.com.']"
            ]
          },
          "metadata": {},
          "execution_count": 33
        }
      ]
    },
    {
      "cell_type": "code",
      "metadata": {
        "colab": {
          "base_uri": "https://localhost:8080/"
        },
        "id": "Mgpdae8mmkEO",
        "outputId": "fd0f175e-8baa-4f2f-a62b-9dcefadeca2c"
      },
      "source": [
        "#vamos extrair os emojis da frase\n",
        "sentx1.extract_emojis ()"
      ],
      "execution_count": null,
      "outputs": [
        {
          "output_type": "execute_result",
          "data": {
            "text/plain": [
              "['☺️', '😎', '👀']"
            ]
          },
          "metadata": {},
          "execution_count": 34
        }
      ]
    },
    {
      "cell_type": "markdown",
      "metadata": {
        "id": "WkDdvtmUm7ZN"
      },
      "source": [
        "#Usando funções no Neattext\n",
        "As funções oferecem uma maneira única de pré-processar a frase. Podemos fazer todas as atividades que fizemos acima em uma linha usando funções que salvarão algumas linhas de código.\n",
        "\n",
        "Agora vamos usar funções para processar a frase. Para fazer isso, temos que importar os módulos necessários"
      ]
    },
    {
      "cell_type": "code",
      "metadata": {
        "id": "BnwLs6fZnDMt"
      },
      "source": [
        "# Importando os módulos\n",
        "from neattext.functions import clean_text"
      ],
      "execution_count": null,
      "outputs": []
    },
    {
      "cell_type": "code",
      "metadata": {
        "colab": {
          "base_uri": "https://localhost:8080/",
          "height": 70
        },
        "id": "SzSZnzilrkhh",
        "outputId": "a848de95-5d05-489c-f118-9fd2a7d0a769"
      },
      "source": [
        "#Removendo URLs, palavras irrelevantes da frase original meu_texto\n",
        "clean_text (my_text, urls = True, stopwords = True)"
      ],
      "execution_count": null,
      "outputs": [
        {
          "output_type": "execute_result",
          "data": {
            "text/plain": [
              "'. desenvolver educação tecnológica por meio da formação de profissionais éticos e competentes, capazes de se adaptar às mudanças, criar, aplicar e difundir conhecimento tecnológico, contribuindo para desenvolvimento social e elevação da qualidade e produtividade de processos, produtos e serviços!!!!! .seu número de contato é 0123456789.seu e-mail é ficticio@gmail.com.seu site é '"
            ],
            "application/vnd.google.colaboratory.intrinsic+json": {
              "type": "string"
            }
          },
          "metadata": {},
          "execution_count": 36
        }
      ]
    },
    {
      "cell_type": "markdown",
      "metadata": {
        "id": "41CUGdgdsE7v"
      },
      "source": [
        "#Usando o Explainer\n",
        "Até agora vimos TextFrame, TextExtractor e Functions. Agora vamos ver outro objeto da biblioteca NeatText, ou seja, Explainer.\n",
        "\n",
        "Às vezes, podemos ficar confusos sobre o que um emoji pode significar e também às vezes queremos criar um emoji com base em uma determinada expressão e em alguns aplicativos, podemos querer usar Unicode em vez de emojis. Portanto, é necessário converter esses Unicodes em emojis na saída. O objeto explicador faz tudo isso para nós.\n",
        "\n",
        "O explicador pode fazer três tipos de atividades. Eles são\n",
        "\n",
        "emojify () - Cria um emoji baseado em uma determinada expressão emocional.\n",
        "\n",
        "emoji_explainer () - explica o significado por trás do emoji fornecido.\n",
        "\n",
        "unicode_2_emoji () - Converte Unicode em emoji."
      ]
    },
    {
      "cell_type": "code",
      "metadata": {
        "id": "TrmyhHBysb4v"
      },
      "source": [
        "#Importando as funções do explicador\n",
        "from neattext.explainer import emojify, emoji_explainer, unicode_2_emoji"
      ],
      "execution_count": null,
      "outputs": []
    },
    {
      "cell_type": "code",
      "metadata": {
        "colab": {
          "base_uri": "https://localhost:8080/",
          "height": 35
        },
        "id": "elY8HGLDso-_",
        "outputId": "abb6e85c-31f9-42d6-cd2c-8b84752a939c"
      },
      "source": [
        "# Testando o emojify\n",
        "#Podemos ver que ele produzirá  um emoji baseado na emoção que demos a ele.\n",
        "emojify('smiley')   # cry => chorar # Smiley Risonha"
      ],
      "execution_count": null,
      "outputs": [
        {
          "output_type": "execute_result",
          "data": {
            "text/plain": [
              "'😃'"
            ],
            "application/vnd.google.colaboratory.intrinsic+json": {
              "type": "string"
            }
          },
          "metadata": {},
          "execution_count": 42
        }
      ]
    },
    {
      "cell_type": "code",
      "metadata": {
        "colab": {
          "base_uri": "https://localhost:8080/",
          "height": 35
        },
        "id": "VGJQe4pduni7",
        "outputId": "5f758322-f1f3-4168-9721-7ecd80910cff"
      },
      "source": [
        "#Agora vamos ver emoji_explainer ()\n",
        "emoji_explainer ('😍')  #ROSTO SORRISO COM OLHOS EM FORMA DE CORAÇÃO"
      ],
      "execution_count": null,
      "outputs": [
        {
          "output_type": "execute_result",
          "data": {
            "text/plain": [
              "'SMILING FACE WITH HEART-SHAPED EYES'"
            ],
            "application/vnd.google.colaboratory.intrinsic+json": {
              "type": "string"
            }
          },
          "metadata": {},
          "execution_count": 39
        }
      ]
    },
    {
      "cell_type": "code",
      "metadata": {
        "colab": {
          "base_uri": "https://localhost:8080/",
          "height": 35
        },
        "id": "pRne1QQivIw7",
        "outputId": "f85f3a5a-5f5f-484e-986c-04067ce74910"
      },
      "source": [
        "#Vamos ver unicode_2_emoji ()\n",
        "unicode_2_emoji ('0x1f49b')"
      ],
      "execution_count": null,
      "outputs": [
        {
          "output_type": "execute_result",
          "data": {
            "text/plain": [
              "'💛'"
            ],
            "application/vnd.google.colaboratory.intrinsic+json": {
              "type": "string"
            }
          },
          "metadata": {},
          "execution_count": 40
        }
      ]
    },
    {
      "cell_type": "code",
      "source": [
        "!pip install qrcode -- update"
      ],
      "metadata": {
        "colab": {
          "base_uri": "https://localhost:8080/"
        },
        "id": "2wlpb5XSbiSW",
        "outputId": "823270c8-b8b1-4083-aa5d-04533b72f615"
      },
      "execution_count": null,
      "outputs": [
        {
          "output_type": "stream",
          "name": "stdout",
          "text": [
            "Collecting qrcode\n",
            "  Downloading qrcode-7.4.2-py3-none-any.whl (46 kB)\n",
            "\u001b[?25l     \u001b[90m━━━━━━━━━━━━━━━━━━━━━━━━━━━━━━━━━━━━━━━━\u001b[0m \u001b[32m0.0/46.2 kB\u001b[0m \u001b[31m?\u001b[0m eta \u001b[36m-:--:--\u001b[0m\r\u001b[2K     \u001b[90m━━━━━━━━━━━━━━━━━━━━━━━━━━━━━━━━━━━━━━━━\u001b[0m \u001b[32m46.2/46.2 kB\u001b[0m \u001b[31m1.2 MB/s\u001b[0m eta \u001b[36m0:00:00\u001b[0m\n",
            "\u001b[?25hRequirement already satisfied: update in /usr/local/lib/python3.10/dist-packages (0.0.1)\n",
            "Requirement already satisfied: typing-extensions in /usr/local/lib/python3.10/dist-packages (from qrcode) (4.5.0)\n",
            "Collecting pypng (from qrcode)\n",
            "  Downloading pypng-0.20220715.0-py3-none-any.whl (58 kB)\n",
            "\u001b[2K     \u001b[90m━━━━━━━━━━━━━━━━━━━━━━━━━━━━━━━━━━━━━━━━\u001b[0m \u001b[32m58.1/58.1 kB\u001b[0m \u001b[31m2.5 MB/s\u001b[0m eta \u001b[36m0:00:00\u001b[0m\n",
            "\u001b[?25hRequirement already satisfied: style==1.1.0 in /usr/local/lib/python3.10/dist-packages (from update) (1.1.0)\n",
            "Installing collected packages: pypng, qrcode\n",
            "Successfully installed pypng-0.20220715.0 qrcode-7.4.2\n"
          ]
        }
      ]
    },
    {
      "cell_type": "code",
      "source": [
        "# Importando as Bibliotecas\n",
        "import qrcode\n",
        "img = qrcode.make(\"https://colab.research.google.com/drive/1-FYR-lnIPu-R8MvscEVA4GGDNjnVybxz\")\n",
        "img.save(\"drive_codigo.jpg\")"
      ],
      "metadata": {
        "id": "jRlWqZgSbijt"
      },
      "execution_count": null,
      "outputs": []
    },
    {
      "cell_type": "markdown",
      "source": [
        "#Abaixo copie o Qrcode com todo o código e Sucesso na sua jornada"
      ],
      "metadata": {
        "id": "jgLkiifcet6_"
      }
    },
    {
      "cell_type": "code",
      "source": [
        "# Saída do código acima\n",
        "img"
      ],
      "metadata": {
        "colab": {
          "base_uri": "https://localhost:8080/",
          "height": 467
        },
        "id": "VnimhFUobivk",
        "outputId": "a26b67f5-011b-4628-fa62-f14c38cc015a"
      },
      "execution_count": null,
      "outputs": [
        {
          "output_type": "execute_result",
          "data": {
            "text/plain": [
              "<qrcode.image.pil.PilImage at 0x7d309c7507c0>"
            ],
            "image/png": "[encoded data removed]"
          },
          "metadata": {},
          "execution_count": 50
        }
      ]
    },
    {
      "cell_type": "markdown",
      "source": [
        "##Siga nos para mais conhecimentos em tecnologia com Qrcode abaixo"
      ],
      "metadata": {
        "id": "1StBZZ2efhSp"
      }
    },
    {
      "cell_type": "code",
      "source": [
        "img = qrcode.make(\"https://engenhariadedadosacademy.com/\")\n",
        "img.save(\"Engenharia de Dados Academy\")\n",
        "img"
      ],
      "metadata": {
        "colab": {
          "base_uri": "https://localhost:8080/",
          "height": 387
        },
        "id": "FPVSDtJyf2W4",
        "outputId": "2da38e54-57b3-4317-b3b6-5ef86af1407c"
      },
      "execution_count": null,
      "outputs": [
        {
          "output_type": "execute_result",
          "data": {
            "text/plain": [
              "<qrcode.image.pil.PilImage at 0x7d309df37490>"
            ],
            "image/png": "[encoded data removed]"
          },
          "metadata": {},
          "execution_count": 51
        }
      ]
    },
    {
      "cell_type": "markdown",
      "source": [],
      "metadata": {
        "id": "q3-W4OXNfN-h"
      }
    },
    {
      "cell_type": "markdown",
      "metadata": {
        "id": "z9wQC56-sZ0W"
      },
      "source": [
        "# <font color='pink'>CONCLUSÃO</font>\n",
        "\n",
        "Vimos todos os componentes da biblioteca NeatText. Removemos várias coisas indesejadas da frase e a deixamos pronta para processamento posterior. Também economizamos muito tempo escrevendo funções para pré-processamento. Esta biblioteca é útil para fazer qualquer tipo de pré-processamento de dados de texto."
      ]
    },
    {
      "cell_type": "markdown",
      "source": [
        "#  MAR TRANQUILO NÃO FAZ MARINHEIRO BOM"
      ],
      "metadata": {
        "id": "9QQ9EHAdgiIA"
      }
    },
    {
      "cell_type": "markdown",
      "source": [],
      "metadata": {
        "id": "U7nifWDmgfN2"
      }
    }
  ]
}